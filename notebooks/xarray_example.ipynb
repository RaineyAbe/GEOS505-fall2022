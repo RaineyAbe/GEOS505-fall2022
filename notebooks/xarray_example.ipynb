{
 "cells": [
  {
   "cell_type": "markdown",
   "id": "0ee1e97e-a3d0-48d1-812d-ed3ca215188f",
   "metadata": {},
   "source": [
    "# Xarray example\n",
    "\n",
    "Rainey Aberle\n",
    "\n",
    "GEOS 50\n",
    "\n",
    "4 October 2022"
   ]
  },
  {
   "cell_type": "code",
   "execution_count": null,
   "id": "ed6d9beb-7ab9-4982-93d1-33f0e4eb7a58",
   "metadata": {},
   "outputs": [],
   "source": []
  }
 ],
 "metadata": {
  "kernelspec": {
   "display_name": "Python 3 (ipykernel)",
   "language": "python",
   "name": "python3"
  },
  "language_info": {
   "codemirror_mode": {
    "name": "ipython",
    "version": 3
   },
   "file_extension": ".py",
   "mimetype": "text/x-python",
   "name": "python",
   "nbconvert_exporter": "python",
   "pygments_lexer": "ipython3",
   "version": "3.10.6"
  }
 },
 "nbformat": 4,
 "nbformat_minor": 5
}
