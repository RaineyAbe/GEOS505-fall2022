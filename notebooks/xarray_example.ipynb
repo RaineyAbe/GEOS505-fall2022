{
 "cells": [
  {
   "cell_type": "markdown",
   "id": "0ee1e97e-a3d0-48d1-812d-ed3ca215188f",
   "metadata": {},
   "source": [
    "# Xarray example\n",
    "\n",
    "Rainey Aberle\n",
    "\n",
    "GEOS 505\n",
    "\n",
    "4 October 2022"
   ]
  },
  {
   "cell_type": "code",
   "execution_count": 1,
   "id": "ed6d9beb-7ab9-4982-93d1-33f0e4eb7a58",
   "metadata": {},
   "outputs": [
    {
     "ename": "ModuleNotFoundError",
     "evalue": "No module named 'xarray'",
     "output_type": "error",
     "traceback": [
      "\u001b[0;31m---------------------------------------------------------------------------\u001b[0m",
      "\u001b[0;31mModuleNotFoundError\u001b[0m                       Traceback (most recent call last)",
      "Input \u001b[0;32mIn [1]\u001b[0m, in \u001b[0;36m<cell line: 4>\u001b[0;34m()\u001b[0m\n\u001b[1;32m      2\u001b[0m \u001b[38;5;28;01mimport\u001b[39;00m \u001b[38;5;21;01mmatplotlib\u001b[39;00m\u001b[38;5;21;01m.\u001b[39;00m\u001b[38;5;21;01mpyplot\u001b[39;00m \u001b[38;5;28;01mas\u001b[39;00m \u001b[38;5;21;01mplt\u001b[39;00m\n\u001b[1;32m      3\u001b[0m \u001b[38;5;28;01mimport\u001b[39;00m \u001b[38;5;21;01mnumpy\u001b[39;00m \u001b[38;5;28;01mas\u001b[39;00m \u001b[38;5;21;01mnp\u001b[39;00m\n\u001b[0;32m----> 4\u001b[0m \u001b[38;5;28;01mimport\u001b[39;00m \u001b[38;5;21;01mxarray\u001b[39;00m \u001b[38;5;28;01mas\u001b[39;00m \u001b[38;5;21;01mxr\u001b[39;00m\n\u001b[1;32m      6\u001b[0m \u001b[38;5;66;03m# path to GEOS505-fall2022\u001b[39;00m\n\u001b[1;32m      7\u001b[0m base_path \u001b[38;5;241m=\u001b[39m \u001b[38;5;124m'\u001b[39m\u001b[38;5;124m/Users/raineyaberle/Courses/GEOS_505_ResearchComputing/GEOS505-fall2022/\u001b[39m\u001b[38;5;124m'\u001b[39m\n",
      "\u001b[0;31mModuleNotFoundError\u001b[0m: No module named 'xarray'"
     ]
    }
   ],
   "source": [
    "import os\n",
    "import matplotlib.pyplot as plt\n",
    "import numpy as np\n",
    "import xarray as xr\n",
    "\n",
    "# path to GEOS505-fall2022\n",
    "base_path = '/Users/raineyaberle/Courses/GEOS_505_ResearchComputing/GEOS505-fall2022/'\n",
    "data_path = base_path + '../data/xarray_example/'"
   ]
  },
  {
   "cell_type": "code",
   "execution_count": null,
   "id": "31f7c300-3c43-490a-af18-37d74fd28c99",
   "metadata": {},
   "outputs": [],
   "source": [
    "os.chdir(data_path)\n",
    "data_fns = os.listdir()\n",
    "data_fns"
   ]
  },
  {
   "cell_type": "code",
   "execution_count": null,
   "id": "31e185c3-1772-4955-94d8-58f2b601afc4",
   "metadata": {},
   "outputs": [],
   "source": [
    "cmip_fn = data_fns[3]\n",
    "ds_pr = xr.open_dataset(cmip_fn)\n",
    "\n",
    "mean_mon_precip = ds_pr['precipitation'].mean(dim=('lat', 'lon')).values\n",
    "\n",
    "plt.plot(mean_mon_precip)\n",
    "plt.show()"
   ]
  },
  {
   "cell_type": "code",
   "execution_count": null,
   "id": "122e936f-d568-4abc-87a6-c3051201c369",
   "metadata": {},
   "outputs": [],
   "source": [
    "# mean annual precip\n",
    "ds_pr['precipitation'].groupby('time.year').sum(dim='time').mean(dim='year').plot()\n",
    "\n",
    "# mean monthly precip\n",
    "ds_pr['precipitation'].groupby('time.month').sum(dim='time').plot()\n"
   ]
  }
 ],
 "metadata": {
  "kernelspec": {
   "display_name": "geos505",
   "language": "python",
   "name": "geos505"
  },
  "language_info": {
   "codemirror_mode": {
    "name": "ipython",
    "version": 3
   },
   "file_extension": ".py",
   "mimetype": "text/x-python",
   "name": "python",
   "nbconvert_exporter": "python",
   "pygments_lexer": "ipython3",
   "version": "3.9.1"
  }
 },
 "nbformat": 4,
 "nbformat_minor": 5
}
