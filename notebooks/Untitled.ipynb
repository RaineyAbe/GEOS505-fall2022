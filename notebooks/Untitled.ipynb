{
 "cells": [
  {
   "cell_type": "markdown",
   "id": "ec3dca9b-5254-44fa-afd9-53bb7550e002",
   "metadata": {},
   "source": [
    "# My First Jupyter Notebook\n",
    "\n",
    "### GEOS 505: REsearch Computing in the Earth and Environmental Sciences\n",
    "\n",
    "By: Rainey Aberle"
   ]
  },
  {
   "cell_type": "code",
   "execution_count": 2,
   "id": "727fb6a7-4a7f-44fc-860f-383cfd5ca287",
   "metadata": {},
   "outputs": [
    {
     "name": "stdout",
     "output_type": "stream",
     "text": [
      "[0 1 2 3 4 5 6 7 8 9]\n"
     ]
    }
   ],
   "source": [
    "import numpy as np\n",
    "\n",
    "x = np.arange(10)\n",
    "print(x)"
   ]
  },
  {
   "cell_type": "code",
   "execution_count": null,
   "id": "3b474bd6-f3a7-498a-8765-172e22227755",
   "metadata": {},
   "outputs": [],
   "source": []
  }
 ],
 "metadata": {
  "kernelspec": {
   "display_name": "geos505",
   "language": "python",
   "name": "geos505"
  },
  "language_info": {
   "codemirror_mode": {
    "name": "ipython",
    "version": 3
   },
   "file_extension": ".py",
   "mimetype": "text/x-python",
   "name": "python",
   "nbconvert_exporter": "python",
   "pygments_lexer": "ipython3",
   "version": "3.9.1"
  }
 },
 "nbformat": 4,
 "nbformat_minor": 5
}
